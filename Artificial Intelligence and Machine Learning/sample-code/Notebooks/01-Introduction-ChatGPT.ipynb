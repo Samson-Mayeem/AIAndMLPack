{
 "cells": [
  {
   "cell_type": "markdown",
   "metadata": {},
   "source": [
    "# Introduction to ChatGPT"
   ]
  },
  {
   "cell_type": "markdown",
   "metadata": {},
   "source": [
    "## Install Azure OpenAI .NET SDK & other NuGet packages"
   ]
  },
  {
   "cell_type": "code",
   "execution_count": 1,
   "metadata": {
    "dotnet_interactive": {
     "language": "csharp"
    },
    "polyglot_notebook": {
     "kernelName": "csharp"
    }
   },
   "outputs": [
    {
     "data": {
      "text/html": [
       "<div><div></div><div></div><div><strong>Installed Packages</strong><ul><li><span>Azure.AI.OpenAI, 1.0.0-beta.6</span></li><li><span>Microsoft.DotNet.Interactive, 1.0.0-beta.23313.2</span></li></ul></div></div>"
      ]
     },
     "metadata": {},
     "output_type": "display_data"
    }
   ],
   "source": [
    "#r \"nuget: Azure.AI.OpenAI, 1.0.0-beta.6\"\n",
    "#r \"nuget: Microsoft.DotNet.Interactive, 1.0.0-beta.23313.2\""
   ]
  },
  {
   "cell_type": "code",
   "execution_count": 2,
   "metadata": {
    "dotnet_interactive": {
     "language": "csharp"
    },
    "polyglot_notebook": {
     "kernelName": "csharp"
    }
   },
   "outputs": [],
   "source": [
    "using System;\n",
    "using Azure.AI.OpenAI;\n",
    "using Microsoft.DotNet.Interactive;"
   ]
  },
  {
   "cell_type": "markdown",
   "metadata": {},
   "source": [
    "## Get Azure OpenAI Service credentials"
   ]
  },
  {
   "cell_type": "code",
   "execution_count": 11,
   "metadata": {
    "dotnet_interactive": {
     "language": "csharp"
    },
    "polyglot_notebook": {
     "kernelName": "csharp"
    }
   },
   "outputs": [],
   "source": [
    "var endpoint = Environment.GetEnvironmentVariable(\"AOAI_ENDPOINT\");\n",
    "var key = Environment.GetEnvironmentVariable(\"AOAI_KEY\");\n",
    "var deploymentId = Environment.GetEnvironmentVariable(\"AOAI_DEPLOYMENTID\");"
   ]
  },
  {
   "cell_type": "markdown",
   "metadata": {},
   "source": [
    "## Configure OpenAI client"
   ]
  },
  {
   "cell_type": "code",
   "execution_count": 12,
   "metadata": {
    "dotnet_interactive": {
     "language": "csharp"
    },
    "polyglot_notebook": {
     "kernelName": "csharp"
    }
   },
   "outputs": [
    {
     "ename": "Error",
     "evalue": "System.ArgumentNullException: Value cannot be null. (Parameter 'uriString')\r\n   at System.ArgumentNullException.Throw(String paramName)\r\n   at System.Uri..ctor(String uriString)\r\n   at Submission#15.<<Initialize>>d__0.MoveNext()\r\n--- End of stack trace from previous location ---\r\n   at Microsoft.CodeAnalysis.Scripting.ScriptExecutionState.RunSubmissionsAsync[TResult](ImmutableArray`1 precedingExecutors, Func`2 currentExecutor, StrongBox`1 exceptionHolderOpt, Func`2 catchExceptionOpt, CancellationToken cancellationToken)",
     "output_type": "error",
     "traceback": [
      "System.ArgumentNullException: Value cannot be null. (Parameter 'uriString')\r\n",
      "   at System.ArgumentNullException.Throw(String paramName)\r\n",
      "   at System.Uri..ctor(String uriString)\r\n",
      "   at Submission#15.<<Initialize>>d__0.MoveNext()\r\n",
      "--- End of stack trace from previous location ---\r\n",
      "   at Microsoft.CodeAnalysis.Scripting.ScriptExecutionState.RunSubmissionsAsync[TResult](ImmutableArray`1 precedingExecutors, Func`2 currentExecutor, StrongBox`1 exceptionHolderOpt, Func`2 catchExceptionOpt, CancellationToken cancellationToken)"
     ]
    }
   ],
   "source": [
    "var client = new OpenAIClient(new Uri(endpoint), new Azure.AzureKeyCredential(key));"
   ]
  },
  {
   "cell_type": "markdown",
   "metadata": {},
   "source": [
    "## Define system prompt"
   ]
  },
  {
   "cell_type": "code",
   "execution_count": 7,
   "metadata": {
    "dotnet_interactive": {
     "language": "csharp"
    },
    "polyglot_notebook": {
     "kernelName": "csharp"
    }
   },
   "outputs": [],
   "source": [
    "var systemPrompt =\n",
    "    \"\"\"\n",
    "    You are a hiking enthusiast who helps people discover fun hikes in their area. You are upbeat and friendly. You introduce yourself when first saying hello. When helping people out, you always ask them for this information to inform the hiking recommendation you provide:\n",
    "\n",
    "    1. Where they are located\n",
    "    2. What hiking intensity they are looking for\n",
    "\n",
    "    You will then provide three suggestions for nearby hikes that vary in length after you get that information. You will also share an interesting fact about the local nature on the hikes when making a recommendation.\n",
    "    \"\"\";"
   ]
  },
  {
   "cell_type": "markdown",
   "metadata": {},
   "source": [
    "## Configure Chat Completion options"
   ]
  },
  {
   "cell_type": "code",
   "execution_count": 13,
   "metadata": {
    "dotnet_interactive": {
     "language": "csharp"
    },
    "polyglot_notebook": {
     "kernelName": "csharp"
    }
   },
   "outputs": [],
   "source": [
    "var options = new ChatCompletionsOptions\n",
    "{\n",
    "    MaxTokens=400,\n",
    "    Temperature=1f,\n",
    "    FrequencyPenalty=0.0f,\n",
    "    PresencePenalty=0.0f,\n",
    "    NucleusSamplingFactor = 0.95f // Top P\n",
    "};"
   ]
  },
  {
   "cell_type": "markdown",
   "metadata": {},
   "source": [
    "## Initialize Chat History"
   ]
  },
  {
   "cell_type": "code",
   "execution_count": 8,
   "metadata": {
    "dotnet_interactive": {
     "language": "csharp"
    },
    "polyglot_notebook": {
     "kernelName": "csharp"
    }
   },
   "outputs": [],
   "source": [
    "options.Messages.Add(new ChatMessage(ChatRole.System, systemPrompt));"
   ]
  },
  {
   "cell_type": "markdown",
   "metadata": {},
   "source": [
    "## Start chat"
   ]
  },
  {
   "cell_type": "code",
   "execution_count": 2,
   "metadata": {
    "dotnet_interactive": {
     "language": "csharp"
    },
    "polyglot_notebook": {
     "kernelName": "csharp"
    }
   },
   "outputs": [],
   "source": [
    "var chatting = true;"
   ]
  },
  {
   "cell_type": "code",
   "execution_count": 14,
   "metadata": {
    "dotnet_interactive": {
     "language": "csharp"
    },
    "polyglot_notebook": {
     "kernelName": "csharp"
    }
   },
   "outputs": [
    {
     "name": "stdout",
     "output_type": "stream",
     "text": [
      "System: You are a hiking enthusiast who helps people discover fun hikes in their area. You are upbeat and friendly. You introduce yourself when first saying hello. When helping people out, you always ask them for this information to inform the hiking recommendation you provide:\n",
      "\n",
      "1. Where they are located\n",
      "2. What hiking intensity they are looking for\n",
      "\n",
      "You will then provide three suggestions for nearby hikes that vary in length after you get that information. You will also share an interesting fact about the local nature on the hikes when making a recommendation.\n",
      "User: hello\n"
     ]
    },
    {
     "ename": "Error",
     "evalue": "System.NullReferenceException: Object reference not set to an instance of an object.\r\n   at Submission#17.<<Initialize>>d__0.MoveNext()\r\n--- End of stack trace from previous location ---\r\n   at Microsoft.CodeAnalysis.Scripting.ScriptExecutionState.RunSubmissionsAsync[TResult](ImmutableArray`1 precedingExecutors, Func`2 currentExecutor, StrongBox`1 exceptionHolderOpt, Func`2 catchExceptionOpt, CancellationToken cancellationToken)",
     "output_type": "error",
     "traceback": [
      "System.NullReferenceException: Object reference not set to an instance of an object.\r\n",
      "   at Submission#17.<<Initialize>>d__0.MoveNext()\r\n",
      "--- End of stack trace from previous location ---\r\n",
      "   at Microsoft.CodeAnalysis.Scripting.ScriptExecutionState.RunSubmissionsAsync[TResult](ImmutableArray`1 precedingExecutors, Func`2 currentExecutor, StrongBox`1 exceptionHolderOpt, Func`2 catchExceptionOpt, CancellationToken cancellationToken)"
     ]
    }
   ],
   "source": [
    "Console.WriteLine($\"System: {systemPrompt}\");\n",
    "while(chatting)\n",
    "{\n",
    "    var userPrompt = await Kernel.GetInputAsync(\"Your prompt\");\n",
    "    if(userPrompt.ToLowerInvariant() == \"q\")\n",
    "    {\n",
    "        chatting = false;\n",
    "        break;\n",
    "    }\n",
    "    Console.WriteLine($\"User: {userPrompt}\");\n",
    "    options.Messages.Add(new ChatMessage(ChatRole.User, userPrompt));\n",
    "    var assistantResponse = await client.GetChatCompletionsAsync(deploymentId, options);\n",
    "    var response = assistantResponse.Value.Choices[0].Message.Content;\n",
    "    Console.WriteLine($\"Assistant: {response}\");\n",
    "    options.Messages.Add(new ChatMessage(ChatRole.Assistant, response));\n",
    "};\n",
    "options.Messages.Clear();"
   ]
  }
 ],
 "metadata": {
  "kernelspec": {
   "display_name": ".NET (C#)",
   "language": "C#",
   "name": ".net-csharp"
  },
  "language_info": {
   "name": "polyglot-notebook"
  },
  "polyglot_notebook": {
   "kernelInfo": {
    "defaultKernelName": "csharp",
    "items": [
     {
      "aliases": [],
      "languageName": "csharp",
      "name": "csharp"
     }
    ]
   }
  }
 },
 "nbformat": 4,
 "nbformat_minor": 2
}
