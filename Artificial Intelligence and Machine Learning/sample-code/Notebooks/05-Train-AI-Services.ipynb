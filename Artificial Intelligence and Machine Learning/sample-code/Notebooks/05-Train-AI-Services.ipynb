{
 "cells": [
  {
   "cell_type": "markdown",
   "metadata": {},
   "source": [
    "## Training Custom Models with AI Services\n",
    "\n",
    "This sample trains a custom image classifier to identify cracked and uncracked pavement\n",
    "\n",
    "![An image of cracked and uncracked pavement](https://learn.microsoft.com/dotnet/machine-learning/tutorials/media/image-classification-api-transfer-learning/sdnet2018decksamples.png)"
   ]
  },
  {
   "cell_type": "markdown",
   "metadata": {},
   "source": [
    "## Install NuGet packages"
   ]
  },
  {
   "cell_type": "code",
   "execution_count": 1,
   "metadata": {
    "dotnet_interactive": {
     "language": "csharp"
    },
    "polyglot_notebook": {
     "kernelName": "csharp"
    },
    "vscode": {
     "languageId": "polyglot-notebook"
    }
   },
   "outputs": [
    {
     "data": {
      "text/html": [
       "<div><div></div><div></div><div><strong>Installed Packages</strong><ul><li><span>Microsoft.Azure.CognitiveServices.Vision.CustomVision.Prediction, 2.0.0</span></li><li><span>Microsoft.Azure.CognitiveServices.Vision.CustomVision.Training, 2.1.0-preview</span></li></ul></div></div>"
      ]
     },
     "metadata": {},
     "output_type": "display_data"
    }
   ],
   "source": [
    "#r \"nuget: Microsoft.Azure.CognitiveServices.Vision.CustomVision.Training, 2.1.0-preview\"\n",
    "#r \"nuget: Microsoft.Azure.CognitiveServices.Vision.CustomVision.Prediction, 2.0.0\""
   ]
  },
  {
   "cell_type": "code",
   "execution_count": 2,
   "metadata": {
    "dotnet_interactive": {
     "language": "csharp"
    },
    "polyglot_notebook": {
     "kernelName": "csharp"
    },
    "vscode": {
     "languageId": "polyglot-notebook"
    }
   },
   "outputs": [],
   "source": [
    "using Microsoft.Azure.CognitiveServices.Vision.CustomVision.Prediction;\n",
    "using Microsoft.Azure.CognitiveServices.Vision.CustomVision.Training;\n",
    "using Microsoft.Azure.CognitiveServices.Vision.CustomVision.Training.Models;\n",
    "using System.IO;\n",
    "using System.Threading;"
   ]
  },
  {
   "cell_type": "markdown",
   "metadata": {},
   "source": [
    "## Get Azure Custom Vision Service credentials"
   ]
  },
  {
   "cell_type": "code",
   "execution_count": 9,
   "metadata": {
    "dotnet_interactive": {
     "language": "csharp"
    },
    "polyglot_notebook": {
     "kernelName": "csharp"
    },
    "vscode": {
     "languageId": "polyglot-notebook"
    }
   },
   "outputs": [],
   "source": [
    "var trainingEndpoint = Environment.GetEnvironmentVariable(\"VISION_TRAINING_ENDPOINT\");\n",
    "var trainingKey = Environment.GetEnvironmentVariable(\"VISION_TRAINING_KEY\");\n",
    "var predictionEndpoint = Environment.GetEnvironmentVariable(\"VISION_PREDICTION_ENDPOINT\");\n",
    "var predictionKey = Environment.GetEnvironmentVariable(\"VISION_PREDICTION_KEY\");\n",
    "var predictionResourceId = Environment.GetEnvironmentVariable(\"VISION_PREDICTION_RESOURCE_ID\");"
   ]
  },
  {
   "cell_type": "markdown",
   "metadata": {},
   "source": [
    "## Utility Functions"
   ]
  },
  {
   "cell_type": "code",
   "execution_count": 10,
   "metadata": {
    "dotnet_interactive": {
     "language": "csharp"
    },
    "polyglot_notebook": {
     "kernelName": "csharp"
    },
    "vscode": {
     "languageId": "polyglot-notebook"
    }
   },
   "outputs": [],
   "source": [
    "async Task<bool> ProjectExistsAsync(CustomVisionTrainingClient client, string projectName)\n",
    "{\n",
    "    var projects = await client.GetProjectsAsync();\n",
    "    return projects.Where(x => x.Name == projectName).Count() > 0 ? true : false;\n",
    "}\n",
    "\n",
    "async Task<bool> TagExistsAsync(CustomVisionTrainingClient client, string projectName, string tagName)\n",
    "{\n",
    "    var projects = await client.GetProjectsAsync();\n",
    "    var project = projects.First(x => x.Name == projectName);\n",
    "    var tags = await client.GetTagsAsync(project.Id);\n",
    "    return tags.Where(x => x.Name == tagName).Count() > 0 ? true : false;\n",
    "}"
   ]
  },
  {
   "cell_type": "markdown",
   "metadata": {},
   "source": [
    "## Configure Azure Custom Vision training client"
   ]
  },
  {
   "cell_type": "code",
   "execution_count": 5,
   "metadata": {
    "dotnet_interactive": {
     "language": "csharp"
    },
    "polyglot_notebook": {
     "kernelName": "csharp"
    },
    "vscode": {
     "languageId": "polyglot-notebook"
    }
   },
   "outputs": [],
   "source": [
    "var trainingCredentials = new Microsoft.Azure.CognitiveServices.Vision.CustomVision.Training.ApiKeyServiceClientCredentials(trainingKey);\n",
    "var trainingClient = new CustomVisionTrainingClient(trainingCredentials)\n",
    "{\n",
    "    Endpoint = trainingEndpoint\n",
    "};"
   ]
  },
  {
   "cell_type": "markdown",
   "metadata": {},
   "source": [
    "## Create Azure Custom Vision Project"
   ]
  },
  {
   "cell_type": "code",
   "execution_count": 6,
   "metadata": {
    "dotnet_interactive": {
     "language": "csharp"
    },
    "polyglot_notebook": {
     "kernelName": "csharp"
    },
    "vscode": {
     "languageId": "polyglot-notebook"
    }
   },
   "outputs": [
    {
     "ename": "Error",
     "evalue": "Microsoft.Rest.ValidationException: 'this.Endpoint' cannot be null.\r\n   at Microsoft.Azure.CognitiveServices.Vision.CustomVision.Training.CustomVisionTrainingClient.GetProjectsWithHttpMessagesAsync(Dictionary`2 customHeaders, CancellationToken cancellationToken)\r\n   at Microsoft.Azure.CognitiveServices.Vision.CustomVision.Training.CustomVisionTrainingClientExtensions.GetProjectsAsync(ICustomVisionTrainingClient operations, CancellationToken cancellationToken)\r\n   at Submission#4.<ProjectExistsAsync>d__1.MoveNext()\r\n--- End of stack trace from previous location ---\r\n   at Submission#6.<<Initialize>>d__0.MoveNext()\r\n--- End of stack trace from previous location ---\r\n   at Microsoft.CodeAnalysis.Scripting.ScriptExecutionState.RunSubmissionsAsync[TResult](ImmutableArray`1 precedingExecutors, Func`2 currentExecutor, StrongBox`1 exceptionHolderOpt, Func`2 catchExceptionOpt, CancellationToken cancellationToken)",
     "output_type": "error",
     "traceback": [
      "Microsoft.Rest.ValidationException: 'this.Endpoint' cannot be null.\r\n",
      "   at Microsoft.Azure.CognitiveServices.Vision.CustomVision.Training.CustomVisionTrainingClient.GetProjectsWithHttpMessagesAsync(Dictionary`2 customHeaders, CancellationToken cancellationToken)\r\n",
      "   at Microsoft.Azure.CognitiveServices.Vision.CustomVision.Training.CustomVisionTrainingClientExtensions.GetProjectsAsync(ICustomVisionTrainingClient operations, CancellationToken cancellationToken)\r\n",
      "   at Submission#4.<ProjectExistsAsync>d__1.MoveNext()\r\n",
      "--- End of stack trace from previous location ---\r\n",
      "   at Submission#6.<<Initialize>>d__0.MoveNext()\r\n",
      "--- End of stack trace from previous location ---\r\n",
      "   at Microsoft.CodeAnalysis.Scripting.ScriptExecutionState.RunSubmissionsAsync[TResult](ImmutableArray`1 precedingExecutors, Func`2 currentExecutor, StrongBox`1 exceptionHolderOpt, Func`2 catchExceptionOpt, CancellationToken cancellationToken)"
     ]
    }
   ],
   "source": [
    "var projectName = \"Infrastructure CV Project\";\n",
    "var projectExists = await ProjectExistsAsync(trainingClient, projectName);\n",
    "Project project;\n",
    "if(!projectExists)\n",
    "{\n",
    "    project = await trainingClient.CreateProjectAsync(\"Infrastructure CV Project\", \"An image classifier to detect cracks in pavement\");\n",
    "}\n",
    "else\n",
    "{\n",
    "    var projects = await trainingClient.GetProjectsAsync();\n",
    "    project = projects.First(x => x.Name == projectName);\n",
    "}"
   ]
  },
  {
   "cell_type": "markdown",
   "metadata": {},
   "source": [
    "## Create image tags\n",
    "\n",
    "- Cracked\n",
    "- Uncracked"
   ]
  },
  {
   "cell_type": "code",
   "execution_count": 26,
   "metadata": {
    "dotnet_interactive": {
     "language": "csharp"
    },
    "polyglot_notebook": {
     "kernelName": "csharp"
    },
    "vscode": {
     "languageId": "polyglot-notebook"
    }
   },
   "outputs": [
    {
     "ename": "Error",
     "evalue": "Microsoft.Rest.ValidationException: 'this.Endpoint' cannot be null.\r\n   at Microsoft.Azure.CognitiveServices.Vision.CustomVision.Training.CustomVisionTrainingClient.GetProjectsWithHttpMessagesAsync(Dictionary`2 customHeaders, CancellationToken cancellationToken)\r\n   at Microsoft.Azure.CognitiveServices.Vision.CustomVision.Training.CustomVisionTrainingClientExtensions.GetProjectsAsync(ICustomVisionTrainingClient operations, CancellationToken cancellationToken)\r\n   at Submission#23.<TagExistsAsync>d__2.MoveNext()\r\n--- End of stack trace from previous location ---\r\n   at Submission#26.<<Initialize>>d__0.MoveNext()\r\n--- End of stack trace from previous location ---\r\n   at Microsoft.CodeAnalysis.Scripting.ScriptExecutionState.RunSubmissionsAsync[TResult](ImmutableArray`1 precedingExecutors, Func`2 currentExecutor, StrongBox`1 exceptionHolderOpt, Func`2 catchExceptionOpt, CancellationToken cancellationToken)",
     "output_type": "error",
     "traceback": [
      "Microsoft.Rest.ValidationException: 'this.Endpoint' cannot be null.\r\n",
      "   at Microsoft.Azure.CognitiveServices.Vision.CustomVision.Training.CustomVisionTrainingClient.GetProjectsWithHttpMessagesAsync(Dictionary`2 customHeaders, CancellationToken cancellationToken)\r\n",
      "   at Microsoft.Azure.CognitiveServices.Vision.CustomVision.Training.CustomVisionTrainingClientExtensions.GetProjectsAsync(ICustomVisionTrainingClient operations, CancellationToken cancellationToken)\r\n",
      "   at Submission#23.<TagExistsAsync>d__2.MoveNext()\r\n",
      "--- End of stack trace from previous location ---\r\n",
      "   at Submission#26.<<Initialize>>d__0.MoveNext()\r\n",
      "--- End of stack trace from previous location ---\r\n",
      "   at Microsoft.CodeAnalysis.Scripting.ScriptExecutionState.RunSubmissionsAsync[TResult](ImmutableArray`1 precedingExecutors, Func`2 currentExecutor, StrongBox`1 exceptionHolderOpt, Func`2 catchExceptionOpt, CancellationToken cancellationToken)"
     ]
    }
   ],
   "source": [
    "var crackedTagName = \"Cracked\";\n",
    "var crackedTagExists = await TagExistsAsync(trainingClient, projectName, crackedTagName);\n",
    "Tag crackedTag;\n",
    "if(!crackedTagExists)\n",
    "{\n",
    "    crackedTag = await trainingClient.CreateTagAsync(project.Id, crackedTagName);\n",
    "}\n",
    "else\n",
    "{\n",
    "    var tags = await trainingClient.GetTagsAsync(project.Id);\n",
    "    crackedTag = tags.First(x => x.Name == crackedTagName);\n",
    "}\n"
   ]
  },
  {
   "cell_type": "code",
   "execution_count": 27,
   "metadata": {
    "dotnet_interactive": {
     "language": "csharp"
    },
    "polyglot_notebook": {
     "kernelName": "csharp"
    },
    "vscode": {
     "languageId": "polyglot-notebook"
    }
   },
   "outputs": [
    {
     "ename": "Error",
     "evalue": "Microsoft.Rest.ValidationException: 'this.Endpoint' cannot be null.\r\n   at Microsoft.Azure.CognitiveServices.Vision.CustomVision.Training.CustomVisionTrainingClient.GetProjectsWithHttpMessagesAsync(Dictionary`2 customHeaders, CancellationToken cancellationToken)\r\n   at Microsoft.Azure.CognitiveServices.Vision.CustomVision.Training.CustomVisionTrainingClientExtensions.GetProjectsAsync(ICustomVisionTrainingClient operations, CancellationToken cancellationToken)\r\n   at Submission#23.<TagExistsAsync>d__2.MoveNext()\r\n--- End of stack trace from previous location ---\r\n   at Submission#27.<<Initialize>>d__0.MoveNext()\r\n--- End of stack trace from previous location ---\r\n   at Microsoft.CodeAnalysis.Scripting.ScriptExecutionState.RunSubmissionsAsync[TResult](ImmutableArray`1 precedingExecutors, Func`2 currentExecutor, StrongBox`1 exceptionHolderOpt, Func`2 catchExceptionOpt, CancellationToken cancellationToken)",
     "output_type": "error",
     "traceback": [
      "Microsoft.Rest.ValidationException: 'this.Endpoint' cannot be null.\r\n",
      "   at Microsoft.Azure.CognitiveServices.Vision.CustomVision.Training.CustomVisionTrainingClient.GetProjectsWithHttpMessagesAsync(Dictionary`2 customHeaders, CancellationToken cancellationToken)\r\n",
      "   at Microsoft.Azure.CognitiveServices.Vision.CustomVision.Training.CustomVisionTrainingClientExtensions.GetProjectsAsync(ICustomVisionTrainingClient operations, CancellationToken cancellationToken)\r\n",
      "   at Submission#23.<TagExistsAsync>d__2.MoveNext()\r\n",
      "--- End of stack trace from previous location ---\r\n",
      "   at Submission#27.<<Initialize>>d__0.MoveNext()\r\n",
      "--- End of stack trace from previous location ---\r\n",
      "   at Microsoft.CodeAnalysis.Scripting.ScriptExecutionState.RunSubmissionsAsync[TResult](ImmutableArray`1 precedingExecutors, Func`2 currentExecutor, StrongBox`1 exceptionHolderOpt, Func`2 catchExceptionOpt, CancellationToken cancellationToken)"
     ]
    }
   ],
   "source": [
    "var uncrackedTagName = \"Uncracked\";\n",
    "var uncrackedTagExists = await TagExistsAsync(trainingClient, projectName, crackedTagName);\n",
    "Tag uncrackedTag;\n",
    "if(!uncrackedTagExists)\n",
    "{\n",
    "    uncrackedTag = await trainingClient.CreateTagAsync(project.Id, uncrackedTagName);\n",
    "}\n",
    "else\n",
    "{\n",
    "    var tags = await trainingClient.GetTagsAsync(project.Id);\n",
    "    uncrackedTag = tags.First(x => x.Name == crackedTagName);\n",
    "}"
   ]
  },
  {
   "cell_type": "markdown",
   "metadata": {},
   "source": [
    "## Upload images"
   ]
  },
  {
   "cell_type": "markdown",
   "metadata": {},
   "source": [
    "### Define image directory and file paths"
   ]
  },
  {
   "cell_type": "code",
   "execution_count": 28,
   "metadata": {
    "dotnet_interactive": {
     "language": "csharp"
    },
    "polyglot_notebook": {
     "kernelName": "csharp"
    },
    "vscode": {
     "languageId": "polyglot-notebook"
    }
   },
   "outputs": [],
   "source": [
    "var crackedImageDirectory = Path.GetFullPath(Path.Join(\"..\",\"Data\",\"assets\",\"CD\"));\n",
    "var uncrackedImageDirectory = Path.GetFullPath(Path.Join(\"..\",\"Data\",\"assets\",\"UD\"));"
   ]
  },
  {
   "cell_type": "code",
   "execution_count": 29,
   "metadata": {
    "dotnet_interactive": {
     "language": "csharp"
    },
    "polyglot_notebook": {
     "kernelName": "csharp"
    },
    "vscode": {
     "languageId": "polyglot-notebook"
    }
   },
   "outputs": [
    {
     "ename": "Error",
     "evalue": "System.IO.DirectoryNotFoundException: Could not find a part of the path 'c:\\Users\\hp\\Desktop\\My Publications\\beginner-series\\Artificial Intelligence and Machine Learning\\sample-code\\Data\\assets\\CD'.\r\n   at System.IO.Enumeration.FileSystemEnumerator`1.CreateDirectoryHandle(String path, Boolean ignoreNotFound)\r\n   at System.IO.Enumeration.FileSystemEnumerator`1.Init()\r\n   at System.IO.Enumeration.FileSystemEnumerable`1..ctor(String directory, FindTransform transform, EnumerationOptions options, Boolean isNormalized)\r\n   at System.IO.Enumeration.FileSystemEnumerableFactory.UserFiles(String directory, String expression, EnumerationOptions options)\r\n   at System.IO.Directory.InternalEnumeratePaths(String path, String searchPattern, SearchTarget searchTarget, EnumerationOptions options)\r\n   at System.IO.Directory.GetFiles(String path, String searchPattern, EnumerationOptions enumerationOptions)\r\n   at Submission#29.<<Initialize>>d__0.MoveNext()\r\n--- End of stack trace from previous location ---\r\n   at Microsoft.CodeAnalysis.Scripting.ScriptExecutionState.RunSubmissionsAsync[TResult](ImmutableArray`1 precedingExecutors, Func`2 currentExecutor, StrongBox`1 exceptionHolderOpt, Func`2 catchExceptionOpt, CancellationToken cancellationToken)",
     "output_type": "error",
     "traceback": [
      "System.IO.DirectoryNotFoundException: Could not find a part of the path 'c:\\Users\\hp\\Desktop\\My Publications\\beginner-series\\Artificial Intelligence and Machine Learning\\sample-code\\Data\\assets\\CD'.\r\n",
      "   at System.IO.Enumeration.FileSystemEnumerator`1.CreateDirectoryHandle(String path, Boolean ignoreNotFound)\r\n",
      "   at System.IO.Enumeration.FileSystemEnumerator`1.Init()\r\n",
      "   at System.IO.Enumeration.FileSystemEnumerable`1..ctor(String directory, FindTransform transform, EnumerationOptions options, Boolean isNormalized)\r\n",
      "   at System.IO.Enumeration.FileSystemEnumerableFactory.UserFiles(String directory, String expression, EnumerationOptions options)\r\n",
      "   at System.IO.Directory.InternalEnumeratePaths(String path, String searchPattern, SearchTarget searchTarget, EnumerationOptions options)\r\n",
      "   at System.IO.Directory.GetFiles(String path, String searchPattern, EnumerationOptions enumerationOptions)\r\n",
      "   at Submission#29.<<Initialize>>d__0.MoveNext()\r\n",
      "--- End of stack trace from previous location ---\r\n",
      "   at Microsoft.CodeAnalysis.Scripting.ScriptExecutionState.RunSubmissionsAsync[TResult](ImmutableArray`1 precedingExecutors, Func`2 currentExecutor, StrongBox`1 exceptionHolderOpt, Func`2 catchExceptionOpt, CancellationToken cancellationToken)"
     ]
    }
   ],
   "source": [
    "var crackedImagePaths = Directory.GetFiles(crackedImageDirectory);\n",
    "var uncrackedImagePaths = Directory.GetFiles(uncrackedImageDirectory);"
   ]
  },
  {
   "cell_type": "markdown",
   "metadata": {},
   "source": [
    "### Upload images"
   ]
  },
  {
   "cell_type": "code",
   "execution_count": 30,
   "metadata": {
    "dotnet_interactive": {
     "language": "csharp"
    },
    "polyglot_notebook": {
     "kernelName": "csharp"
    },
    "vscode": {
     "languageId": "polyglot-notebook"
    }
   },
   "outputs": [
    {
     "ename": "Error",
     "evalue": "System.NullReferenceException: Object reference not set to an instance of an object.\r\n   at Submission#30.<<Initialize>>d__0.MoveNext()\r\n--- End of stack trace from previous location ---\r\n   at Microsoft.CodeAnalysis.Scripting.ScriptExecutionState.RunSubmissionsAsync[TResult](ImmutableArray`1 precedingExecutors, Func`2 currentExecutor, StrongBox`1 exceptionHolderOpt, Func`2 catchExceptionOpt, CancellationToken cancellationToken)",
     "output_type": "error",
     "traceback": [
      "System.NullReferenceException: Object reference not set to an instance of an object.\r\n",
      "   at Submission#30.<<Initialize>>d__0.MoveNext()\r\n",
      "--- End of stack trace from previous location ---\r\n",
      "   at Microsoft.CodeAnalysis.Scripting.ScriptExecutionState.RunSubmissionsAsync[TResult](ImmutableArray`1 precedingExecutors, Func`2 currentExecutor, StrongBox`1 exceptionHolderOpt, Func`2 catchExceptionOpt, CancellationToken cancellationToken)"
     ]
    }
   ],
   "source": [
    "foreach(var image in crackedImagePaths)\n",
    "{\n",
    "    using(var stream = new MemoryStream(File.ReadAllBytes(image)))\n",
    "    {\n",
    "        trainingClient.CreateImagesFromData(project.Id, stream, new List<Guid>() {crackedTag.Id});\n",
    "    }\n",
    "}"
   ]
  },
  {
   "cell_type": "code",
   "execution_count": 31,
   "metadata": {
    "dotnet_interactive": {
     "language": "csharp"
    },
    "polyglot_notebook": {
     "kernelName": "csharp"
    },
    "vscode": {
     "languageId": "polyglot-notebook"
    }
   },
   "outputs": [
    {
     "ename": "Error",
     "evalue": "System.NullReferenceException: Object reference not set to an instance of an object.\r\n   at Submission#31.<<Initialize>>d__0.MoveNext()\r\n--- End of stack trace from previous location ---\r\n   at Microsoft.CodeAnalysis.Scripting.ScriptExecutionState.RunSubmissionsAsync[TResult](ImmutableArray`1 precedingExecutors, Func`2 currentExecutor, StrongBox`1 exceptionHolderOpt, Func`2 catchExceptionOpt, CancellationToken cancellationToken)",
     "output_type": "error",
     "traceback": [
      "System.NullReferenceException: Object reference not set to an instance of an object.\r\n",
      "   at Submission#31.<<Initialize>>d__0.MoveNext()\r\n",
      "--- End of stack trace from previous location ---\r\n",
      "   at Microsoft.CodeAnalysis.Scripting.ScriptExecutionState.RunSubmissionsAsync[TResult](ImmutableArray`1 precedingExecutors, Func`2 currentExecutor, StrongBox`1 exceptionHolderOpt, Func`2 catchExceptionOpt, CancellationToken cancellationToken)"
     ]
    }
   ],
   "source": [
    "foreach(var image in uncrackedImagePaths)\n",
    "{\n",
    "    using(var stream = new MemoryStream(File.ReadAllBytes(image)))\n",
    "    {\n",
    "        trainingClient.CreateImagesFromData(project.Id, stream, new List<Guid>() {uncrackedTag.Id});\n",
    "    }\n",
    "}"
   ]
  },
  {
   "cell_type": "markdown",
   "metadata": {},
   "source": [
    "## Train custom vision model"
   ]
  },
  {
   "cell_type": "code",
   "execution_count": 32,
   "metadata": {
    "dotnet_interactive": {
     "language": "csharp"
    },
    "polyglot_notebook": {
     "kernelName": "csharp"
    },
    "vscode": {
     "languageId": "polyglot-notebook"
    }
   },
   "outputs": [
    {
     "ename": "Error",
     "evalue": "System.NullReferenceException: Object reference not set to an instance of an object.\r\n   at Submission#32.<<Initialize>>d__0.MoveNext()\r\n--- End of stack trace from previous location ---\r\n   at Microsoft.CodeAnalysis.Scripting.ScriptExecutionState.RunSubmissionsAsync[TResult](ImmutableArray`1 precedingExecutors, Func`2 currentExecutor, StrongBox`1 exceptionHolderOpt, Func`2 catchExceptionOpt, CancellationToken cancellationToken)",
     "output_type": "error",
     "traceback": [
      "System.NullReferenceException: Object reference not set to an instance of an object.\r\n",
      "   at Submission#32.<<Initialize>>d__0.MoveNext()\r\n",
      "--- End of stack trace from previous location ---\r\n",
      "   at Microsoft.CodeAnalysis.Scripting.ScriptExecutionState.RunSubmissionsAsync[TResult](ImmutableArray`1 precedingExecutors, Func`2 currentExecutor, StrongBox`1 exceptionHolderOpt, Func`2 catchExceptionOpt, CancellationToken cancellationToken)"
     ]
    }
   ],
   "source": [
    "var iteration = trainingClient.TrainProject(project.Id);\n",
    "\n",
    "Console.WriteLine(\"Training\");\n",
    "\n",
    "while(iteration.Status == \"Training\")\n",
    "{\n",
    "    Console.Write(\".\");\n",
    "    Thread.Sleep(5000);\n",
    "    iteration = trainingClient.GetIteration(project.Id, iteration.Id);\n",
    "}"
   ]
  },
  {
   "cell_type": "markdown",
   "metadata": {},
   "source": [
    "## Publish trained model"
   ]
  },
  {
   "cell_type": "code",
   "execution_count": 33,
   "metadata": {
    "dotnet_interactive": {
     "language": "csharp"
    },
    "polyglot_notebook": {
     "kernelName": "csharp"
    },
    "vscode": {
     "languageId": "polyglot-notebook"
    }
   },
   "outputs": [
    {
     "ename": "Error",
     "evalue": "System.NullReferenceException: Object reference not set to an instance of an object.\r\n   at Submission#33.<<Initialize>>d__0.MoveNext()\r\n--- End of stack trace from previous location ---\r\n   at Microsoft.CodeAnalysis.Scripting.ScriptExecutionState.RunSubmissionsAsync[TResult](ImmutableArray`1 precedingExecutors, Func`2 currentExecutor, StrongBox`1 exceptionHolderOpt, Func`2 catchExceptionOpt, CancellationToken cancellationToken)",
     "output_type": "error",
     "traceback": [
      "System.NullReferenceException: Object reference not set to an instance of an object.\r\n",
      "   at Submission#33.<<Initialize>>d__0.MoveNext()\r\n",
      "--- End of stack trace from previous location ---\r\n",
      "   at Microsoft.CodeAnalysis.Scripting.ScriptExecutionState.RunSubmissionsAsync[TResult](ImmutableArray`1 precedingExecutors, Func`2 currentExecutor, StrongBox`1 exceptionHolderOpt, Func`2 catchExceptionOpt, CancellationToken cancellationToken)"
     ]
    }
   ],
   "source": [
    "var modelName = \"InfrastructureClassifierModel\";\n",
    "await trainingClient.PublishIterationAsync(project.Id, iteration.Id, modelName, predictionResourceId);"
   ]
  },
  {
   "cell_type": "markdown",
   "metadata": {},
   "source": [
    "## Test the model"
   ]
  },
  {
   "cell_type": "markdown",
   "metadata": {},
   "source": [
    "### Configure Azure Custom Vision prediction client"
   ]
  },
  {
   "cell_type": "code",
   "execution_count": 34,
   "metadata": {
    "dotnet_interactive": {
     "language": "csharp"
    },
    "polyglot_notebook": {
     "kernelName": "csharp"
    },
    "vscode": {
     "languageId": "polyglot-notebook"
    }
   },
   "outputs": [],
   "source": [
    "var predictionCredentials = new Microsoft.Azure.CognitiveServices.Vision.CustomVision.Prediction.ApiKeyServiceClientCredentials(predictionKey);\n",
    "var predictionClient = new CustomVisionPredictionClient(predictionCredentials)\n",
    "{\n",
    "    Endpoint = predictionEndpoint\n",
    "};"
   ]
  },
  {
   "cell_type": "markdown",
   "metadata": {},
   "source": [
    "### Get images to test"
   ]
  },
  {
   "cell_type": "code",
   "execution_count": 16,
   "metadata": {
    "dotnet_interactive": {
     "language": "csharp"
    },
    "polyglot_notebook": {
     "kernelName": "csharp"
    },
    "vscode": {
     "languageId": "polyglot-notebook"
    }
   },
   "outputs": [
    {
     "ename": "Error",
     "evalue": "(1,20): error CS0103: The name 'crackedImagePaths' does not exist in the current context\r\n(2,30): error CS0246: The type or namespace name 'MemoryStream' could not be found (are you missing a using directive or an assembly reference?)\r\n(2,43): error CS0103: The name 'File' does not exist in the current context",
     "output_type": "error",
     "traceback": [
      "(1,20): error CS0103: The name 'crackedImagePaths' does not exist in the current context\r\n",
      "(2,30): error CS0246: The type or namespace name 'MemoryStream' could not be found (are you missing a using directive or an assembly reference?)\r\n",
      "(2,43): error CS0103: The name 'File' does not exist in the current context"
     ]
    }
   ],
   "source": [
    "var crackedImage = crackedImagePaths.First();\n",
    "var crackedImageStream = new MemoryStream(File.ReadAllBytes(crackedImage));"
   ]
  },
  {
   "cell_type": "markdown",
   "metadata": {},
   "source": [
    "### Make prediction"
   ]
  },
  {
   "cell_type": "code",
   "execution_count": 17,
   "metadata": {
    "dotnet_interactive": {
     "language": "csharp"
    },
    "polyglot_notebook": {
     "kernelName": "csharp"
    },
    "vscode": {
     "languageId": "polyglot-notebook"
    }
   },
   "outputs": [
    {
     "ename": "Error",
     "evalue": "(1,24): error CS0103: The name 'predictionClient' does not exist in the current context\r\n(1,60): error CS0103: The name 'project' does not exist in the current context\r\n(1,72): error CS0103: The name 'modelName' does not exist in the current context\r\n(1,83): error CS0103: The name 'crackedImageStream' does not exist in the current context",
     "output_type": "error",
     "traceback": [
      "(1,24): error CS0103: The name 'predictionClient' does not exist in the current context\r\n",
      "(1,60): error CS0103: The name 'project' does not exist in the current context\r\n",
      "(1,72): error CS0103: The name 'modelName' does not exist in the current context\r\n",
      "(1,83): error CS0103: The name 'crackedImageStream' does not exist in the current context"
     ]
    }
   ],
   "source": [
    "var prediction = await predictionClient.ClassifyImageAsync(project.Id, modelName, crackedImageStream);"
   ]
  },
  {
   "cell_type": "markdown",
   "metadata": {},
   "source": [
    "### Display prediction results"
   ]
  },
  {
   "cell_type": "code",
   "execution_count": 18,
   "metadata": {
    "dotnet_interactive": {
     "language": "csharp"
    },
    "polyglot_notebook": {
     "kernelName": "csharp"
    },
    "vscode": {
     "languageId": "polyglot-notebook"
    }
   },
   "outputs": [
    {
     "ename": "Error",
     "evalue": "(1,1): error CS0103: The name 'prediction' does not exist in the current context",
     "output_type": "error",
     "traceback": [
      "(1,1): error CS0103: The name 'prediction' does not exist in the current context"
     ]
    }
   ],
   "source": [
    "prediction"
   ]
  }
 ],
 "metadata": {
  "language_info": {
   "name": "csharp"
  },
  "orig_nbformat": 4
 },
 "nbformat": 4,
 "nbformat_minor": 2
}
